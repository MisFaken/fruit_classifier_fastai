{
 "cells": [
  {
   "cell_type": "code",
   "execution_count": 1,
   "metadata": {},
   "outputs": [],
   "source": [
    "import timm\n",
    "import fastai\n",
    "from fastai.vision.all import *\n",
    "from fastai.vision.widgets import *\n",
    "import fastdownload as fd\n",
    "import os \n",
    "import pathlib \n"
   ]
  },
  {
   "cell_type": "code",
   "execution_count": 2,
   "metadata": {},
   "outputs": [],
   "source": [
    "# for Windows\n",
    "temp = pathlib.PosixPath\n",
    "pathlib.PosixPath = pathlib.WindowsPath"
   ]
  },
  {
   "cell_type": "code",
   "execution_count": 3,
   "metadata": {},
   "outputs": [
    {
     "data": {
      "text/plain": [
       "(#1) [Path('export.pkl')]"
      ]
     },
     "execution_count": 3,
     "metadata": {},
     "output_type": "execute_result"
    }
   ],
   "source": [
    "path = Path()\n",
    "path.ls(file_exts='.pkl')"
   ]
  },
  {
   "cell_type": "code",
   "execution_count": 4,
   "metadata": {},
   "outputs": [],
   "source": [
    "learn_inf = load_learner('export.pkl')"
   ]
  },
  {
   "cell_type": "code",
   "execution_count": 5,
   "metadata": {},
   "outputs": [],
   "source": [
    "img_path = 'examples/jackfruit.jpg'"
   ]
  },
  {
   "cell_type": "code",
   "execution_count": 6,
   "metadata": {},
   "outputs": [
    {
     "data": {
      "text/plain": [
       "['acai', 'apple', 'apricot', 'avocado', 'banana', 'black berry', 'black cherry', 'black currant', 'blueberry', 'cantaloupe', 'cherry', 'coconut', 'cranberry', 'custard apple', 'date', 'dragonfruit', 'durian', 'elderberry', 'fig', 'grapefruit', 'guava', 'jackfruit', 'kiwi', 'kumquat', 'lemon', 'lime', 'lingonberry', 'loganberry', 'longan', 'lychee', 'mango', 'mangosteen', 'nectarine', 'orange', 'papaya', 'passion fruit', 'pear', 'persimmon', 'pineapple', 'pomegranate', 'pumpkin', 'rambutan', 'raspberry', 'strawberry', 'ugli fruit', 'watermelon']"
      ]
     },
     "execution_count": 6,
     "metadata": {},
     "output_type": "execute_result"
    }
   ],
   "source": [
    "learn_inf.dls.vocab"
   ]
  },
  {
   "cell_type": "code",
   "execution_count": 7,
   "metadata": {},
   "outputs": [
    {
     "data": {
      "text/html": [
       "\n",
       "    <div>\n",
       "        <style>\n",
       "            /* Turns off some styling */\n",
       "            progress {\n",
       "                /* gets rid of default border in Firefox and Opera. */\n",
       "                border: none;\n",
       "                /* Needs to be in here for Safari polyfill so background images work as expected. */\n",
       "                background-size: auto;\n",
       "            }\n",
       "            .progress-bar-interrupted, .progress-bar-interrupted::-webkit-progress-bar {\n",
       "                background: #F44336;\n",
       "            }\n",
       "        </style>\n",
       "      <progress value='0' class='' max='1' style='width:300px; height:20px; vertical-align: middle;'></progress>\n",
       "      0.00% [0/1 00:00<00:00]\n",
       "    </div>\n",
       "    "
      ],
      "text/plain": [
       "<IPython.core.display.HTML object>"
      ]
     },
     "metadata": {},
     "output_type": "display_data"
    },
    {
     "data": {
      "text/plain": [
       "('jackfruit',\n",
       " tensor(21),\n",
       " tensor([6.1334e-07, 7.4703e-07, 5.8917e-08, 1.4432e-06, 3.9899e-06, 1.8392e-06,\n",
       "         3.1556e-07, 6.2741e-07, 4.9039e-07, 1.2429e-05, 6.8569e-07, 9.7330e-05,\n",
       "         6.7362e-07, 7.5860e-06, 1.3301e-06, 3.3925e-06, 2.9514e-05, 3.6679e-06,\n",
       "         1.6200e-07, 5.8954e-06, 6.6542e-07, 9.9913e-01, 4.2370e-06, 8.3628e-07,\n",
       "         3.8875e-06, 6.7710e-07, 5.5766e-06, 1.7587e-06, 1.0536e-05, 7.0636e-06,\n",
       "         6.3000e-07, 8.3354e-07, 2.1556e-07, 1.7585e-06, 5.8227e-06, 7.6997e-07,\n",
       "         2.0594e-07, 7.0941e-07, 2.9703e-06, 1.8791e-06, 4.1543e-06, 2.7964e-06,\n",
       "         9.7307e-06, 3.2927e-07, 6.2526e-04, 4.0963e-06]))"
      ]
     },
     "execution_count": 7,
     "metadata": {},
     "output_type": "execute_result"
    }
   ],
   "source": [
    "learn_inf.predict('examples/jackfruit.jpg')"
   ]
  },
  {
   "cell_type": "code",
   "execution_count": 8,
   "metadata": {},
   "outputs": [],
   "source": [
    "title = \"Fruit Classifier\"\n",
    "description = \"A fruit classifier trained on a subset of the Fruit-262 dataset with fastai.\"\n",
    "article=\"<p style='text-align: center'><a href='https://github.com/MisFaken/fruit_classifier_fastai' target='_blank'> Github </a></p>\""
   ]
  },
  {
   "cell_type": "code",
   "execution_count": 9,
   "metadata": {},
   "outputs": [],
   "source": [
    "examples = ['examples/' + f for f in os.listdir('examples') if f.endswith('.jpg')]"
   ]
  },
  {
   "cell_type": "code",
   "execution_count": null,
   "metadata": {},
   "outputs": [],
   "source": [
    "pred,pred_idx,probs = learn_inf.predict(img_path)\n",
    "lbl_pred = widgets.Label()\n",
    "lbl_pred.value = f'Prediction: {pred}; Probability: {probs[pred_idx]:.04f}'\n",
    "lbl_pred"
   ]
  },
  {
   "cell_type": "code",
   "execution_count": 11,
   "metadata": {},
   "outputs": [],
   "source": [
    "import gradio as gr"
   ]
  },
  {
   "cell_type": "code",
   "execution_count": 12,
   "metadata": {},
   "outputs": [],
   "source": [
    "labels = learn_inf.dls.vocab\n",
    "def predict(img):\n",
    "    img = PILImage.create(img)\n",
    "    pred,pred_idx,probs = learn_inf.predict(img)\n",
    "    return {labels[i]: float(probs[i]) for i in range(len(labels))}"
   ]
  },
  {
   "cell_type": "code",
   "execution_count": null,
   "metadata": {},
   "outputs": [],
   "source": [
    "gr.Interface(fn=predict, inputs=gr.inputs.Image(shape=(512, 512)), outputs=gr.outputs.Label(num_top_classes=3), title=title, description=description, article=article, examples=examples ,interpretation='default').launch(share=True)"
   ]
  }
 ],
 "metadata": {
  "kernelspec": {
   "display_name": "pytorch_gpu",
   "language": "python",
   "name": "python3"
  },
  "language_info": {
   "codemirror_mode": {
    "name": "ipython",
    "version": 3
   },
   "file_extension": ".py",
   "mimetype": "text/x-python",
   "name": "python",
   "nbconvert_exporter": "python",
   "pygments_lexer": "ipython3",
   "version": "3.8.15"
  },
  "orig_nbformat": 4
 },
 "nbformat": 4,
 "nbformat_minor": 2
}
